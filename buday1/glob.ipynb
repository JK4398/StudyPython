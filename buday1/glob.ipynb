{
 "cells": [
  {
   "cell_type": "code",
   "execution_count": 27,
   "metadata": {},
   "outputs": [
    {
     "data": {
      "text/plain": [
       "('.\\\\bu.ipynb', '.\\\\pic')"
      ]
     },
     "execution_count": 27,
     "metadata": {},
     "output_type": "execute_result"
    }
   ],
   "source": [
    "import os, glob   # 현재 .py코드가 저장된 경로의 모든 파일을 불러오자\n",
    "filter(os.path.isdir, glob.glob(\"./*\"))\n",
    "# dataList=glob.glob(\"./*\")  # 카멜표기법\n",
    "# for x in dataList:\n",
    "#     print(x)\n",
    "\n",
    "# for x in range(len(dataList)): #인덱스할당 위와 같은 결과값\n",
    "#     print(dataList[0])\n",
    "\n",
    "\n",
    "x1=dataList[0]\n",
    "x2=dataList[3]\n",
    "x1,x2"
   ]
  },
  {
   "cell_type": "code",
   "execution_count": 16,
   "metadata": {},
   "outputs": [
    {
     "data": {
      "text/plain": [
       "['.\\\\pic']"
      ]
     },
     "execution_count": 16,
     "metadata": {},
     "output_type": "execute_result"
    }
   ],
   "source": [
    "folderList=[]\n",
    "for x in dataList:\n",
    "    if '.' not in x[2:]:\n",
    "        folderList.append(x)\n",
    "folderList"
   ]
  },
  {
   "cell_type": "code",
   "execution_count": 30,
   "metadata": {},
   "outputs": [],
   "source": [
    "import shutil\n",
    "\n",
    "#폴더 하나 복사하기(이름도)\n",
    "#    Newname = folderName + '복사본'\n",
    "#    shutil.copytree(\"./abcd\", \"./abcd복사본\") #원본 복사되는 이름(새로생김)\n",
    "\n",
    "#여러개의 폴더 동시에 복사하기 (리스트작성)\n",
    "folderList = ['./pic']     \n",
    "\n",
    "for folderName in folderList:           #folderList 내 ForderName 객체 할당\n",
    "    newName=folderName + '복사본'       #새 이름=folderName+'복사본'\n",
    "    shutil.copytree(folderName,newName) #원본, 복사되는 이름(새로생김)"
   ]
  }
 ],
 "metadata": {
  "interpreter": {
   "hash": "e5bc2cf9d9a3d85fb4b9cf5c2acdd222f933ac2e5b2df75a3f82eb3e684a5541"
  },
  "kernelspec": {
   "display_name": "Python 3.10.1 64-bit",
   "language": "python",
   "name": "python3"
  },
  "language_info": {
   "codemirror_mode": {
    "name": "ipython",
    "version": 3
   },
   "file_extension": ".py",
   "mimetype": "text/x-python",
   "name": "python",
   "nbconvert_exporter": "python",
   "pygments_lexer": "ipython3",
   "version": "3.10.1"
  },
  "orig_nbformat": 4
 },
 "nbformat": 4,
 "nbformat_minor": 2
}
